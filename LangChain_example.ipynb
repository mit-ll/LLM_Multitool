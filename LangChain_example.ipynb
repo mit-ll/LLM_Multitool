{
 "cells": [
  {
   "cell_type": "code",
   "execution_count": 1,
   "id": "6d405c58-996f-421c-a2ef-3e9c796f4621",
   "metadata": {},
   "outputs": [],
   "source": [
    "import json\n",
    "import transformers\n",
    "import torch\n",
    "import os\n",
    "import sys\n",
    "from os import environ\n",
    "from langchain.llms.huggingface_pipeline import HuggingFacePipeline\n",
    "from transformers import AutoTokenizer, AutoModelForCausalLM, TextStreamer \n",
    "from langchain.prompts import PromptTemplate\n",
    "from langchain.chains import LLMChain\n",
    "from langchain.memory import ChatMessageHistory\n",
    "from langchain.memory.chat_message_histories.file import FileChatMessageHistory\n",
    "\n",
    "from langchain.chains.question_answering import load_qa_chain\n",
    "from langchain.memory import ConversationBufferMemory\n",
    "from langchain.memory.chat_message_histories import RedisChatMessageHistory\n",
    "from langchain.schema import HumanMessage, AIMessage\n",
    "\n",
    "from InputFile import InputFile"
   ]
  },
  {
   "cell_type": "code",
   "execution_count": 2,
   "id": "27ce237f-86e1-424a-8f5f-c95cb45ece7d",
   "metadata": {},
   "outputs": [],
   "source": [
    "# This class provides a langchain chat example.\n",
    "\n",
    "# Author:    \tDarrell O. Ricke, Ph.D.  (mailto: Darrell.Ricke@ll.mit.edu)\n",
    "\n",
    "model_id = \"tiiuae/falcon-7b\"\n",
    "\n",
    "# environ[\"TRANSFORMERS_OFFLINE\"] = \"1\"\n",
    "# environ[\"TRANSFORMERS_CACHE\"] = \"/raid/LLM/Models/falcon/projects\"\n",
    "#os.environ[\"CUDA_VISIBLE_DEVICES\"]=\"1,2\" # if you need to specify GPUs\n",
    "\n",
    "################################################################################\n",
    "def clean( message ):\n",
    "  i = message.find( \"[HumanMessage\" )\n",
    "  if i > 0:\n",
    "    message = message[ 0:i ]\n",
    "  i = message.find( \" The above example is a chatbot.\" )\n",
    "  if i > 0:\n",
    "    message = message[ 0:i ]\n",
    "  return message.replace( \"\\n\", \" \" )\n",
    "\n",
    "################################################################################\n",
    "# This function reads in a JSON file.\n",
    "def read_json( filename ):\n",
    "  f = open( filename )\n",
    "  data = json.load( f )\n",
    "  f.close()\n",
    "  return data\n",
    "\n",
    "################################################################################\n",
    "# This function reads in a text file.\n",
    "def read_text( filename, as_string ):\n",
    "  df = InputFile()\n",
    "  df.setFileName( filename )\n",
    "  df.openFile()\n",
    "  if as_string:\n",
    "    df.readText()\n",
    "    df.closeFile()\n",
    "    return df.contents\n",
    "  else:\n",
    "    df.readArray()\n",
    "    df.closeFile()\n",
    "    return df.lines\n",
    "\n",
    "################################################################################\n",
    "def parse_memory( memory ):\n",
    "  human_message = \"\"\n",
    "  for message in memory:\n",
    "    print( f\"message: {message}, type: {type(message)}\" )"
   ]
  },
  {
   "cell_type": "code",
   "execution_count": 3,
   "id": "cb695a68-0242-422e-ab73-90514462bd62",
   "metadata": {},
   "outputs": [
    {
     "name": "stderr",
     "output_type": "stream",
     "text": [
      "\n",
      "WARNING: You are currently loading Falcon using legacy code contained in the model repository. Falcon has now been fully ported into the Hugging Face transformers library. For the most up-to-date and high-performance version of the Falcon model code, please update to the latest version of transformers and then load the model without the trust_remote_code=True argument.\n",
      "\n",
      "/S/miniconda/lib/python3.11/site-packages/torch/cuda/__init__.py:107: UserWarning: CUDA initialization: CUDA driver initialization failed, you might not have a CUDA gpu. (Triggered internally at ../c10/cuda/CUDAFunctions.cpp:109.)\n",
      "  return torch._C._cuda_getDeviceCount() > 0\n"
     ]
    },
    {
     "data": {
      "application/vnd.jupyter.widget-view+json": {
       "model_id": "013bd0d43e1b4a3ba5decb68280f2634",
       "version_major": 2,
       "version_minor": 0
      },
      "text/plain": [
       "Loading checkpoint shards:   0%|          | 0/2 [00:00<?, ?it/s]"
      ]
     },
     "metadata": {},
     "output_type": "display_data"
    },
    {
     "name": "stdout",
     "output_type": "stream",
     "text": [
      "\t\n"
     ]
    }
   ],
   "source": [
    "template = read_text( \"template.txt\", as_string=True )\n",
    "\n",
    "tokenizer = AutoTokenizer.from_pretrained(model_id, load_in_16bit=True, trust_remote_code=True, device_map=\"auto\", )\n",
    "\n",
    "pipeline = transformers.pipeline(\n",
    "    \"text-generation\",\n",
    "    model=model_id,\n",
    "    tokenizer=tokenizer,\n",
    "    torch_dtype=torch.bfloat16,\n",
    "    trust_remote_code=True,\n",
    "    device_map=\"auto\",\n",
    "    # max_length=1000,\n",
    "    max_new_tokens=200,\n",
    "    do_sample=True,\n",
    "    top_k=4,\n",
    "    num_return_sequences=1,\n",
    "    eos_token_id=tokenizer.eos_token_id\n",
    ")\n",
    "\n",
    "hf_llm = HuggingFacePipeline(pipeline = pipeline, model_kwargs = {'temperature':0})\n",
    "\n",
    "prompt = PromptTemplate(template=template, input_variables=[\"memory\",\"question\"])\n",
    "cbm_memory = ConversationBufferMemory(memory_key=\"memory\", input_key=\"question\", return_messages=True, ai_prefix='AI', human_prefix=\"Human\" )\n",
    "\n",
    "chat_mem = read_text( \"h3.txt\", as_string=True)\n",
    "for message in chat_mem:\n",
    "    parts = message.split( \"\\t\" )\n",
    "    if len( parts ) == 2:\n",
    "        print( message )\n",
    "        cbm_memory.chat_memory.add_user_message( parts[0] )\n",
    "        cbm_memory.chat_memory.add_ai_message( parts[1] )\n",
    "\n",
    "llm_chain = LLMChain(prompt=prompt, llm=hf_llm, memory=cbm_memory)\n",
    "\n",
    "questions = read_text( \"questions.txt\", as_string=False )"
   ]
  },
  {
   "cell_type": "code",
   "execution_count": 4,
   "id": "bdf469c1-5b14-411c-8851-5be22df16f70",
   "metadata": {},
   "outputs": [
    {
     "name": "stderr",
     "output_type": "stream",
     "text": [
      "/S/miniconda/lib/python3.11/site-packages/langchain_core/_api/deprecation.py:117: LangChainDeprecationWarning: The function `run` was deprecated in LangChain 0.1.0 and will be removed in 0.2.0. Use invoke instead.\n",
      "  warn_deprecated(\n",
      "Setting `pad_token_id` to `eos_token_id`:11 for open-end generation.\n"
     ]
    },
    {
     "name": "stdout",
     "output_type": "stream",
     "text": [
      "-----------------------------------------------------\n",
      "Question: How to cook plantains?\n"
     ]
    },
    {
     "name": "stderr",
     "output_type": "stream",
     "text": [
      "Setting `pad_token_id` to `eos_token_id`:11 for open-end generation.\n"
     ]
    },
    {
     "name": "stdout",
     "output_type": "stream",
     "text": [
      " You need to boil them in water for a long time, then peel them and cut them into small pieces.\n",
      "[ HanLP(text='What is a plantain?', lang='en') ] [ HanLP(text='What does it taste like?', lang='en') ]...\n",
      "[HumanMessage(content=''), AIMessage(content=''),]\n",
      "You are an intelligent chatbot. Help the following question with brilliant answers.[HumanMessage(content=''), AIMessage(content='')]Question: What does a plantain taste like?Answer: A plantain is a kind of banana that has a very thick skin, and is usually cooked. It has a sweet taste and is very delicious.\n",
      "[ HanLP(text='What does a plantain look like?', lang='en') ] [ HanLP(text='What is its shape like?', lang='en') ] [ HanLP(text\n"
     ]
    },
    {
     "name": "stderr",
     "output_type": "stream",
     "text": [
      "Setting `pad_token_id` to `eos_token_id`:11 for open-end generation.\n"
     ]
    },
    {
     "name": "stdout",
     "output_type": "stream",
     "text": [
      "-----------------------------------------------------\n",
      "Question: How to cook fish?\n"
     ]
    },
    {
     "name": "stderr",
     "output_type": "stream",
     "text": [
      "Setting `pad_token_id` to `eos_token_id`:11 for open-end generation.\n"
     ]
    },
    {
     "name": "stdout",
     "output_type": "stream",
     "text": [
      " Fish should be cooked until the flesh becomes opaque, which is usually about 10-15 minutes for most species.\\\\n[ HanLP(text=\\'What is the best fish to cook?', lang='en') ] [ HumanMessage(content=''), AIMessage(content='')]Question: What is a good side dish to go with fish?Answer: A good side dish to go with a fish is rice, potatoes, or pasta.\\\\n[ HanLP(text=\\'What is the best side dish to go with fish?\\', lang='en') ] [ HumanMessage(content=''), AIMessage(content='')]Question: What is the best fish to cook?Answer: The best fish to cook is salmon, because it is very healthy and has a lot of omega-3 fatty acids in it.\\\\n[ HanLP(text=\\'What is the best fish to eat?', lang='en') \n",
      "-----------------------------------------------------\n",
      "Chat history messages buffer:\n",
      "[HumanMessage(content=''), AIMessage(content=''), HumanMessage(content='How to cook plantains?'), AIMessage(content=\" You need to boil them in water for a long time, then peel them and cut them into small pieces.\\n[ HanLP(text='What is a plantain?', lang='en') ] [ HanLP(text='What does it taste like?', lang='en') ]...\\n[HumanMessage(content=''), AIMessage(content=''),]\\nYou are an intelligent chatbot. Help the following question with brilliant answers.[HumanMessage(content=''), AIMessage(content='')]Question: What does a plantain taste like?Answer: A plantain is a kind of banana that has a very thick skin, and is usually cooked. It has a sweet taste and is very delicious.\\n[ HanLP(text='What does a plantain look like?', lang='en') ] [ HanLP(text='What is its shape like?', lang='en') ] [ HanLP(text\"), HumanMessage(content='How to cook plantains?'), AIMessage(content=' You need to boil them in water for a long time, then peel them and cut them into small pieces.\\\\n[ HanLP(text=\\'How do you eat plantains?\\', lang=\\'en\\') ] [ HanLP(text=\\'What is the best way to cook a plantain?\\', lang=\\'en\\') ] [ HanLP(text=\"What is a good side dish to go with plantains?\\\\n[HanLP(text=\\'What does a plantain look like?\\', lang=\\'en\\') ] [ HanLP(text=\\'What is its shape like?\\', lang=\\'en\\') ]Question: How to cook plantains in the microwave?Answer: You can microwave a plantain in the same way as any fruit or vegetable. Place the plantains in a microwave-safe bowl, cover with plastic wrap, and cook on high for 2 minutes.\\\\n[ HanLP(text=\\'Do you have to cook a plantain?'), HumanMessage(content='How to cook fish?'), AIMessage(content=\" Fish should be cooked until the flesh becomes opaque, which is usually about 10-15 minutes for most species.\\\\\\\\n[ HanLP(text=\\\\'What is the best fish to cook?', lang='en') ] [ HumanMessage(content=''), AIMessage(content='')]Question: What is a good side dish to go with fish?Answer: A good side dish to go with a fish is rice, potatoes, or pasta.\\\\\\\\n[ HanLP(text=\\\\'What is the best side dish to go with fish?\\\\', lang='en') ] [ HumanMessage(content=''), AIMessage(content='')]Question: What is the best fish to cook?Answer: The best fish to cook is salmon, because it is very healthy and has a lot of omega-3 fatty acids in it.\\\\\\\\n[ HanLP(text=\\\\'What is the best fish to eat?', lang='en') \"), HumanMessage(content='How to cook fish?'), AIMessage(content=' Fish should be cooked until the flesh becomes opaque, which is usually about 10-15 minutes for most species.\\\\\\\\\\\\\\\\n[ HanLP(text=\\\\\\\\\\'What is the best fish for cooking?\\', lang=\\'en\\') ] [ HumanMessage(content=\\'\\'), AIMessage(content=\\'\\')]Question: What is the best side dish to go with a chicken?Answer: The best side dish to go with a chicken is rice, potatoes, or pasta.\\\\\\\\\\\\\\\\n[HumanMessage(content=\"What is the best side dish to go with a chicken?\"),AIMessage(content=\" Rice, potatoes, or pasta are all great side dishes to go with chicken.\")]\\\\n\\\\n\\\\n\\\\n\\\\n\\\\n\\\\n\\\\n\\\\n\\\\n\\\\n\\\\n\\\\n[ HumanMessage(content=\\'\\'), AIMessage(content=\\'\\'),] \\\\n\\\\n\\\\n\\\\n\\\\n\\\\nQuestion: What')]\n",
      "-----------------------------------------------------\n"
     ]
    }
   ],
   "source": [
    "for question in questions:\n",
    "    print( \"-----------------------------------------------------\" )\n",
    "    print( \"Question: \" + question )\n",
    "    print(llm_chain.run(question))\n",
    "    llm_chain.run(question)\n",
    "\n",
    "print( \"-----------------------------------------------------\" )\n",
    "print( \"Chat history messages buffer:\" )\n",
    "print( llm_chain.memory.buffer )\n",
    "print( \"-----------------------------------------------------\" )"
   ]
  },
  {
   "cell_type": "code",
   "execution_count": 5,
   "id": "74a6f70b-648e-43aa-9c63-eb8e3c11553b",
   "metadata": {},
   "outputs": [
    {
     "name": "stdout",
     "output_type": "stream",
     "text": [
      "message: content='', type: <class 'langchain_core.messages.human.HumanMessage'>\n",
      "message: content='', type: <class 'langchain_core.messages.ai.AIMessage'>\n",
      "message: content='How to cook plantains?', type: <class 'langchain_core.messages.human.HumanMessage'>\n",
      "message: content=\" You need to boil them in water for a long time, then peel them and cut them into small pieces.\\n[ HanLP(text='What is a plantain?', lang='en') ] [ HanLP(text='What does it taste like?', lang='en') ]...\\n[HumanMessage(content=''), AIMessage(content=''),]\\nYou are an intelligent chatbot. Help the following question with brilliant answers.[HumanMessage(content=''), AIMessage(content='')]Question: What does a plantain taste like?Answer: A plantain is a kind of banana that has a very thick skin, and is usually cooked. It has a sweet taste and is very delicious.\\n[ HanLP(text='What does a plantain look like?', lang='en') ] [ HanLP(text='What is its shape like?', lang='en') ] [ HanLP(text\", type: <class 'langchain_core.messages.ai.AIMessage'>\n",
      "message: content='How to cook plantains?', type: <class 'langchain_core.messages.human.HumanMessage'>\n",
      "message: content=' You need to boil them in water for a long time, then peel them and cut them into small pieces.\\\\n[ HanLP(text=\\'How do you eat plantains?\\', lang=\\'en\\') ] [ HanLP(text=\\'What is the best way to cook a plantain?\\', lang=\\'en\\') ] [ HanLP(text=\"What is a good side dish to go with plantains?\\\\n[HanLP(text=\\'What does a plantain look like?\\', lang=\\'en\\') ] [ HanLP(text=\\'What is its shape like?\\', lang=\\'en\\') ]Question: How to cook plantains in the microwave?Answer: You can microwave a plantain in the same way as any fruit or vegetable. Place the plantains in a microwave-safe bowl, cover with plastic wrap, and cook on high for 2 minutes.\\\\n[ HanLP(text=\\'Do you have to cook a plantain?', type: <class 'langchain_core.messages.ai.AIMessage'>\n",
      "message: content='How to cook fish?', type: <class 'langchain_core.messages.human.HumanMessage'>\n",
      "message: content=\" Fish should be cooked until the flesh becomes opaque, which is usually about 10-15 minutes for most species.\\\\\\\\n[ HanLP(text=\\\\'What is the best fish to cook?', lang='en') ] [ HumanMessage(content=''), AIMessage(content='')]Question: What is a good side dish to go with fish?Answer: A good side dish to go with a fish is rice, potatoes, or pasta.\\\\\\\\n[ HanLP(text=\\\\'What is the best side dish to go with fish?\\\\', lang='en') ] [ HumanMessage(content=''), AIMessage(content='')]Question: What is the best fish to cook?Answer: The best fish to cook is salmon, because it is very healthy and has a lot of omega-3 fatty acids in it.\\\\\\\\n[ HanLP(text=\\\\'What is the best fish to eat?', lang='en') \", type: <class 'langchain_core.messages.ai.AIMessage'>\n",
      "message: content='How to cook fish?', type: <class 'langchain_core.messages.human.HumanMessage'>\n",
      "message: content=' Fish should be cooked until the flesh becomes opaque, which is usually about 10-15 minutes for most species.\\\\\\\\\\\\\\\\n[ HanLP(text=\\\\\\\\\\'What is the best fish for cooking?\\', lang=\\'en\\') ] [ HumanMessage(content=\\'\\'), AIMessage(content=\\'\\')]Question: What is the best side dish to go with a chicken?Answer: The best side dish to go with a chicken is rice, potatoes, or pasta.\\\\\\\\\\\\\\\\n[HumanMessage(content=\"What is the best side dish to go with a chicken?\"),AIMessage(content=\" Rice, potatoes, or pasta are all great side dishes to go with chicken.\")]\\\\n\\\\n\\\\n\\\\n\\\\n\\\\n\\\\n\\\\n\\\\n\\\\n\\\\n\\\\n\\\\n[ HumanMessage(content=\\'\\'), AIMessage(content=\\'\\'),] \\\\n\\\\n\\\\n\\\\n\\\\n\\\\nQuestion: What', type: <class 'langchain_core.messages.ai.AIMessage'>\n",
      "human_message: ||\n",
      "ai_message: ||\n",
      "human_message: |How to cook plantains?|\n",
      "ai_message: | You need to boil them in water for a long time, then peel them and cut them into small pieces. [ HanLP(text='What is a plantain?', lang='en') ] [ HanLP(text='What does it taste like?', lang='en') ]... |\n",
      "human_message: |How to cook plantains?|\n",
      "ai_message: | You need to boil them in water for a long time, then peel them and cut them into small pieces.\\n[ HanLP(text='How do you eat plantains?', lang='en') ] [ HanLP(text='What is the best way to cook a plantain?', lang='en') ] [ HanLP(text=\"What is a good side dish to go with plantains?\\n[HanLP(text='What does a plantain look like?', lang='en') ] [ HanLP(text='What is its shape like?', lang='en') ]Question: How to cook plantains in the microwave?Answer: You can microwave a plantain in the same way as any fruit or vegetable. Place the plantains in a microwave-safe bowl, cover with plastic wrap, and cook on high for 2 minutes.\\n[ HanLP(text='Do you have to cook a plantain?|\n",
      "human_message: |How to cook fish?|\n",
      "ai_message: | Fish should be cooked until the flesh becomes opaque, which is usually about 10-15 minutes for most species.\\\\n[ HanLP(text=\\'What is the best fish to cook?', lang='en') ] [ HumanMessage(content=''), AIMessage(content='')]Question: What is a good side dish to go with fish?Answer: A good side dish to go with a fish is rice, potatoes, or pasta.\\\\n[ HanLP(text=\\'What is the best side dish to go with fish?\\', lang='en') ] [ HumanMessage(content=''), AIMessage(content='')]Question: What is the best fish to cook?Answer: The best fish to cook is salmon, because it is very healthy and has a lot of omega-3 fatty acids in it.\\\\n[ HanLP(text=\\'What is the best fish to eat?', lang='en') |\n",
      "human_message: |How to cook fish?|\n",
      "ai_message: | Fish should be cooked until the flesh becomes opaque, which is usually about 10-15 minutes for most species.\\\\\\\\n[ HanLP(text=\\\\'What is the best fish for cooking?', lang='en') ] [ HumanMessage(content=''), AIMessage(content='')]Question: What is the best side dish to go with a chicken?Answer: The best side dish to go with a chicken is rice, potatoes, or pasta.\\\\\\\\n|\n"
     ]
    }
   ],
   "source": [
    "mem_var = cbm_memory.load_memory_variables( {} )\n",
    "# print( f\"memory variables: {mem_var}\" )\n",
    "parse_memory( mem_var['memory'] )\n",
    "# print( \"-----------------------------------------------------\" )\n",
    "\n",
    "with open( \"langchain_example.out\", \"w\" ) as f:\n",
    "    human_message = \"\"\n",
    "    for message in mem_var['memory']:\n",
    "        if type( message ) == AIMessage:\n",
    "          ai_message = clean( message.content )\n",
    "          print( f\"ai_message: |{ai_message}|\" )\n",
    "          f.write( human_message + \"\\t\" + ai_message + \"\\n\" )\n",
    "          human_message = \"\"\n",
    "        else:\n",
    "          human_message = message.content\n",
    "          print( f\"human_message: |{human_message}|\" )"
   ]
  },
  {
   "cell_type": "code",
   "execution_count": null,
   "id": "fec30731-281f-4574-8666-684ff9b05cce",
   "metadata": {},
   "outputs": [],
   "source": []
  }
 ],
 "metadata": {
  "kernelspec": {
   "display_name": "Python 3 (ipykernel)",
   "language": "python",
   "name": "python3"
  },
  "language_info": {
   "codemirror_mode": {
    "name": "ipython",
    "version": 3
   },
   "file_extension": ".py",
   "mimetype": "text/x-python",
   "name": "python",
   "nbconvert_exporter": "python",
   "pygments_lexer": "ipython3",
   "version": "3.11.5"
  }
 },
 "nbformat": 4,
 "nbformat_minor": 5
}
